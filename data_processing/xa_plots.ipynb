{
 "cells": [
  {
   "cell_type": "code",
   "execution_count": null,
   "metadata": {
    "collapsed": true
   },
   "outputs": [],
   "source": [
    "\n",
    "class BinnedData:\n",
    "    \"\"\"a structure that holds binned data and its properties\"\"\"\n",
    "    def __init__(self, ch, neut, outg, sortby):\n",
    "        # initialize FilePaths object to retrieve saved files\n",
    "        fpth = FilePaths()\n",
    "\n",
    "        # load bins edges and bin counts\n",
    "        za = np.load(fpth.fbincnt(sortby))\n",
    "        self.bins = za['bins']\n",
    "        self.cnt = za[ch+'cnt']  # NOTE: ch is either x or a for X/Aut\n",
    "\n",
    "        # load pi & div\n",
    "        self.pi = np.load(fpth.fbinpi(neut, sortby))[ch+'pi']\n",
    "        self.div = np.load(fpth.fbindiv(outg, sortby))[ch+'div']\n",
    "\n",
    "        # create an x-axis label for plots baesd on the sorting type\n",
    "        if sortby == 'dist':\n",
    "            self.xlab = 'cM to nearest exon'\n",
    "        else:\n",
    "            self.xlab = 'B values'\n",
    "\n",
    "    @property\n",
    "    def msk(self):\n",
    "        \"\"\"mask to remove sites where pi=nan or cnt=0 or div=nan or div=0\"\"\"\n",
    "        return np.isfinite(self.pi * self.div) & (self.cnt * self.div != 0)\n",
    "\n",
    "    @property\n",
    "    def mskbins(self):\n",
    "        \"\"\"masked bins\"\"\"\n",
    "        return self.bins[self.msk]\n",
    "\n",
    "    @property\n",
    "    def mskcnt(self):\n",
    "        \"\"\"masked counts\"\"\"\n",
    "        return self.cnt[self.msk]\n",
    "\n",
    "    @property\n",
    "    def mskpi(self):\n",
    "        \"\"\"masked pi values\"\"\"\n",
    "        return self.pi[self.msk]\n",
    "\n",
    "    @property\n",
    "    def mskdiv(self):\n",
    "        \"\"\"masked D values\"\"\"\n",
    "        return self.div[self.msk]\n",
    "\n",
    "    @property\n",
    "    def pi_div(self):\n",
    "        \"\"\"pi/D (use masked pi & div by default to avoid division by 0)\"\"\"\n",
    "        return self.mskpi / self.mskdiv\n"
   ]
  },
  {
   "cell_type": "code",
   "execution_count": null,
   "metadata": {},
   "outputs": [],
   "source": []
  }
 ],
 "metadata": {
  "kernelspec": {
   "display_name": "Python 2",
   "language": "python",
   "name": "python2"
  },
  "language_info": {
   "codemirror_mode": {
    "name": "ipython",
    "version": 2
   },
   "file_extension": ".py",
   "mimetype": "text/x-python",
   "name": "python",
   "nbconvert_exporter": "python",
   "pygments_lexer": "ipython2",
   "version": "2.7.6"
  }
 },
 "nbformat": 4,
 "nbformat_minor": 0
}
